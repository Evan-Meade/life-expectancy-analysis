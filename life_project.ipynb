{
 "metadata": {
  "language_info": {
   "codemirror_mode": {
    "name": "ipython",
    "version": 3
   },
   "file_extension": ".py",
   "mimetype": "text/x-python",
   "name": "python",
   "nbconvert_exporter": "python",
   "pygments_lexer": "ipython3",
   "version": "3.8.8"
  },
  "orig_nbformat": 2,
  "kernelspec": {
   "name": "python388jvsc74a57bd0f5c9dfabb21bd2a91b63810df81acbdc6b5e617e45414f0ef050ca96090c868f",
   "display_name": "Python 3.8.8 64-bit ('myenv': conda)"
  }
 },
 "nbformat": 4,
 "nbformat_minor": 2,
 "cells": [
  {
   "source": [
    "### Importing Libraries"
   ],
   "cell_type": "markdown",
   "metadata": {}
  },
  {
   "cell_type": "code",
   "execution_count": 1,
   "metadata": {},
   "outputs": [],
   "source": [
    "import pandas as pd \n",
    "import numpy as np"
   ]
  },
  {
   "source": [
    "### Importing Data"
   ],
   "cell_type": "markdown",
   "metadata": {}
  },
  {
   "cell_type": "code",
   "execution_count": 2,
   "metadata": {},
   "outputs": [
    {
     "output_type": "execute_result",
     "data": {
      "text/plain": [
       "          Country  Year      Status  Life expectancy   Alcohol  \\\n",
       "0     Afghanistan  2015  Developing              65.0     0.01   \n",
       "1     Afghanistan  2014  Developing              59.9     0.01   \n",
       "2     Afghanistan  2013  Developing              59.9     0.01   \n",
       "3     Afghanistan  2012  Developing              59.5     0.01   \n",
       "4     Afghanistan  2011  Developing              59.2     0.01   \n",
       "...           ...   ...         ...               ...      ...   \n",
       "2933     Zimbabwe  2004  Developing              44.3     4.36   \n",
       "2934     Zimbabwe  2003  Developing              44.5     4.06   \n",
       "2935     Zimbabwe  2002  Developing              44.8     4.43   \n",
       "2936     Zimbabwe  2001  Developing              45.3     1.72   \n",
       "2937     Zimbabwe  2000  Developing              46.0     1.68   \n",
       "\n",
       "      percentage expenditure   BMI    HIV/AIDS         GDP  \\\n",
       "0                  71.279624   19.1        0.1  584.259210   \n",
       "1                  73.523582   18.6        0.1  612.696514   \n",
       "2                  73.219243   18.1        0.1  631.744976   \n",
       "3                  78.184215   17.6        0.1  669.959000   \n",
       "4                   7.097109   17.2        0.1   63.537231   \n",
       "...                      ...    ...        ...         ...   \n",
       "2933                0.000000   27.1       33.6  454.366654   \n",
       "2934                0.000000   26.7       36.7  453.351155   \n",
       "2935                0.000000   26.3       39.8   57.348340   \n",
       "2936                0.000000   25.9       42.1  548.587312   \n",
       "2937                0.000000   25.5       43.5  547.358878   \n",
       "\n",
       "       thinness  1-19 years   thinness 5-9 years  \\\n",
       "0                      17.2                 17.3   \n",
       "1                      17.5                 17.5   \n",
       "2                      17.7                 17.7   \n",
       "3                      17.9                 18.0   \n",
       "4                      18.2                 18.2   \n",
       "...                     ...                  ...   \n",
       "2933                    9.4                  9.4   \n",
       "2934                    9.8                  9.9   \n",
       "2935                    1.2                  1.3   \n",
       "2936                    1.6                  1.7   \n",
       "2937                   11.0                 11.2   \n",
       "\n",
       "      Income composition of resources  Schooling  \n",
       "0                               0.479       10.1  \n",
       "1                               0.476       10.0  \n",
       "2                               0.470        9.9  \n",
       "3                               0.463        9.8  \n",
       "4                               0.454        9.5  \n",
       "...                               ...        ...  \n",
       "2933                            0.407        9.2  \n",
       "2934                            0.418        9.5  \n",
       "2935                            0.427       10.0  \n",
       "2936                            0.427        9.8  \n",
       "2937                            0.434        9.8  \n",
       "\n",
       "[2938 rows x 13 columns]"
      ],
      "text/html": "<div>\n<style scoped>\n    .dataframe tbody tr th:only-of-type {\n        vertical-align: middle;\n    }\n\n    .dataframe tbody tr th {\n        vertical-align: top;\n    }\n\n    .dataframe thead th {\n        text-align: right;\n    }\n</style>\n<table border=\"1\" class=\"dataframe\">\n  <thead>\n    <tr style=\"text-align: right;\">\n      <th></th>\n      <th>Country</th>\n      <th>Year</th>\n      <th>Status</th>\n      <th>Life expectancy</th>\n      <th>Alcohol</th>\n      <th>percentage expenditure</th>\n      <th>BMI</th>\n      <th>HIV/AIDS</th>\n      <th>GDP</th>\n      <th>thinness  1-19 years</th>\n      <th>thinness 5-9 years</th>\n      <th>Income composition of resources</th>\n      <th>Schooling</th>\n    </tr>\n  </thead>\n  <tbody>\n    <tr>\n      <th>0</th>\n      <td>Afghanistan</td>\n      <td>2015</td>\n      <td>Developing</td>\n      <td>65.0</td>\n      <td>0.01</td>\n      <td>71.279624</td>\n      <td>19.1</td>\n      <td>0.1</td>\n      <td>584.259210</td>\n      <td>17.2</td>\n      <td>17.3</td>\n      <td>0.479</td>\n      <td>10.1</td>\n    </tr>\n    <tr>\n      <th>1</th>\n      <td>Afghanistan</td>\n      <td>2014</td>\n      <td>Developing</td>\n      <td>59.9</td>\n      <td>0.01</td>\n      <td>73.523582</td>\n      <td>18.6</td>\n      <td>0.1</td>\n      <td>612.696514</td>\n      <td>17.5</td>\n      <td>17.5</td>\n      <td>0.476</td>\n      <td>10.0</td>\n    </tr>\n    <tr>\n      <th>2</th>\n      <td>Afghanistan</td>\n      <td>2013</td>\n      <td>Developing</td>\n      <td>59.9</td>\n      <td>0.01</td>\n      <td>73.219243</td>\n      <td>18.1</td>\n      <td>0.1</td>\n      <td>631.744976</td>\n      <td>17.7</td>\n      <td>17.7</td>\n      <td>0.470</td>\n      <td>9.9</td>\n    </tr>\n    <tr>\n      <th>3</th>\n      <td>Afghanistan</td>\n      <td>2012</td>\n      <td>Developing</td>\n      <td>59.5</td>\n      <td>0.01</td>\n      <td>78.184215</td>\n      <td>17.6</td>\n      <td>0.1</td>\n      <td>669.959000</td>\n      <td>17.9</td>\n      <td>18.0</td>\n      <td>0.463</td>\n      <td>9.8</td>\n    </tr>\n    <tr>\n      <th>4</th>\n      <td>Afghanistan</td>\n      <td>2011</td>\n      <td>Developing</td>\n      <td>59.2</td>\n      <td>0.01</td>\n      <td>7.097109</td>\n      <td>17.2</td>\n      <td>0.1</td>\n      <td>63.537231</td>\n      <td>18.2</td>\n      <td>18.2</td>\n      <td>0.454</td>\n      <td>9.5</td>\n    </tr>\n    <tr>\n      <th>...</th>\n      <td>...</td>\n      <td>...</td>\n      <td>...</td>\n      <td>...</td>\n      <td>...</td>\n      <td>...</td>\n      <td>...</td>\n      <td>...</td>\n      <td>...</td>\n      <td>...</td>\n      <td>...</td>\n      <td>...</td>\n      <td>...</td>\n    </tr>\n    <tr>\n      <th>2933</th>\n      <td>Zimbabwe</td>\n      <td>2004</td>\n      <td>Developing</td>\n      <td>44.3</td>\n      <td>4.36</td>\n      <td>0.000000</td>\n      <td>27.1</td>\n      <td>33.6</td>\n      <td>454.366654</td>\n      <td>9.4</td>\n      <td>9.4</td>\n      <td>0.407</td>\n      <td>9.2</td>\n    </tr>\n    <tr>\n      <th>2934</th>\n      <td>Zimbabwe</td>\n      <td>2003</td>\n      <td>Developing</td>\n      <td>44.5</td>\n      <td>4.06</td>\n      <td>0.000000</td>\n      <td>26.7</td>\n      <td>36.7</td>\n      <td>453.351155</td>\n      <td>9.8</td>\n      <td>9.9</td>\n      <td>0.418</td>\n      <td>9.5</td>\n    </tr>\n    <tr>\n      <th>2935</th>\n      <td>Zimbabwe</td>\n      <td>2002</td>\n      <td>Developing</td>\n      <td>44.8</td>\n      <td>4.43</td>\n      <td>0.000000</td>\n      <td>26.3</td>\n      <td>39.8</td>\n      <td>57.348340</td>\n      <td>1.2</td>\n      <td>1.3</td>\n      <td>0.427</td>\n      <td>10.0</td>\n    </tr>\n    <tr>\n      <th>2936</th>\n      <td>Zimbabwe</td>\n      <td>2001</td>\n      <td>Developing</td>\n      <td>45.3</td>\n      <td>1.72</td>\n      <td>0.000000</td>\n      <td>25.9</td>\n      <td>42.1</td>\n      <td>548.587312</td>\n      <td>1.6</td>\n      <td>1.7</td>\n      <td>0.427</td>\n      <td>9.8</td>\n    </tr>\n    <tr>\n      <th>2937</th>\n      <td>Zimbabwe</td>\n      <td>2000</td>\n      <td>Developing</td>\n      <td>46.0</td>\n      <td>1.68</td>\n      <td>0.000000</td>\n      <td>25.5</td>\n      <td>43.5</td>\n      <td>547.358878</td>\n      <td>11.0</td>\n      <td>11.2</td>\n      <td>0.434</td>\n      <td>9.8</td>\n    </tr>\n  </tbody>\n</table>\n<p>2938 rows × 13 columns</p>\n</div>"
     },
     "metadata": {},
     "execution_count": 2
    }
   ],
   "source": [
    "# Importing the Data\n",
    "life = pd.read_csv('Life Expectancy Data.csv')\n",
    "\n",
    "# Selecting columns that will be used for the analysis\n",
    "cols = ['Country', 'Year', 'Status', 'Life expectancy ', 'Alcohol', 'percentage expenditure', ' BMI ', ' HIV/AIDS', \n",
    "        'GDP', ' thinness  1-19 years', ' thinness 5-9 years', 'Income composition of resources', 'Schooling']\n",
    "life = life.loc[:,cols]\n",
    "life"
   ]
  },
  {
   "cell_type": "code",
   "execution_count": 3,
   "metadata": {},
   "outputs": [
    {
     "output_type": "stream",
     "name": "stdout",
     "text": [
      "Country                              0\nYear                                 0\nStatus                               0\nLife expectancy                     10\nAlcohol                            194\npercentage expenditure               0\n BMI                                34\n HIV/AIDS                            0\nGDP                                448\n thinness  1-19 years               34\n thinness 5-9 years                 34\nIncome composition of resources    167\nSchooling                          163\ndtype: int64\n"
     ]
    }
   ],
   "source": [
    "# Before Imputation:\n",
    "print(life.isnull().sum())"
   ]
  },
  {
   "source": [
    "### Preprocessing"
   ],
   "cell_type": "markdown",
   "metadata": {}
  },
  {
   "cell_type": "code",
   "execution_count": 4,
   "metadata": {},
   "outputs": [],
   "source": [
    "# Creating a loop where it calculates the mean of every column for every country\n",
    "# Which then creates a dataframe(s) appending it to the empty list which is essentially \n",
    "# is a look-up table (Used as a sanity check)\n",
    "mean_df_list = []\n",
    "\n",
    "for col in life.columns[3:12]:\n",
    "    mean_col = life.groupby(by = ['Country'], as_index = False)[col].mean()\n",
    "    mean_df_list.append(mean_col)"
   ]
  },
  {
   "cell_type": "code",
   "execution_count": null,
   "metadata": {},
   "outputs": [],
   "source": [
    "# Calculates the mean of every column for every country and filling those missing values\n",
    "# with those results\n",
    "for country in list(life['Country'].unique()):\n",
    "    for col in list(life.columns)[3:13]:\n",
    "        life[col].loc[(life['Country'] == country)] = life[col].fillna(value = life.loc[life['Country'] == country, col].mean())"
   ]
  },
  {
   "cell_type": "code",
   "execution_count": null,
   "metadata": {},
   "outputs": [],
   "source": [
    "# Sanity Check!\n",
    "# As we can compare from the results made from the previous code chuck it\n",
    "# Let's compare Yemen for Alcohol! And we can see it has the mean value just like in the sanity check!\n",
    "# (Try Zimbabwe if you would like)\n",
    "print(mean_df_list[1])\n",
    "print('\\n')\n",
    "print(life.loc[life['Country'] == 'Yemen', 'Alcohol'])"
   ]
  },
  {
   "cell_type": "code",
   "execution_count": null,
   "metadata": {},
   "outputs": [],
   "source": [
    "# After Imputation:\n",
    "# We can see it fill in the values for a couple of the columns but not all unfortunately.\n",
    "# The next option, is to go with the imputated version and drop 458 observations\n",
    "# within our dataset which will leave us about ~2470 observations.\n",
    "print(life.isnull().sum())"
   ]
  },
  {
   "cell_type": "code",
   "execution_count": null,
   "metadata": {},
   "outputs": [],
   "source": [
    "import seaborn as sns\n",
    "import matplotlib.pyplot as plt\n",
    "\n",
    "plt.figure(figsize = (10, 6))\n",
    "mask_ut = np.triu(np.ones(life.drop(['Year'], axis = 1).corr().shape)).astype(np.bool)\n",
    "sns.heatmap(life.drop(['Year'], axis = 1).corr(),\n",
    "            mask = mask_ut,\n",
    "            annot = True,\n",
    "            cmap = 'magma', \n",
    "            fmt= '.2f', \n",
    "            square=True, \n",
    "            vmin=0.0, \n",
    "            vmax=1.0, \n",
    "            annot_kws={'size': 10})\n",
    "plt.show()"
   ]
  },
  {
   "cell_type": "code",
   "execution_count": null,
   "metadata": {},
   "outputs": [],
   "source": [
    "count=1\n",
    "plt.figure(figsize = (20, 18))\n",
    "for i in life.columns[4:14]:\n",
    "    plt.subplot(7, 2, count)\n",
    "    sns.scatterplot(x = \"Life expectancy \", y = i, data = life)\n",
    "    count+=1\n",
    "plt.show()"
   ]
  }
 ]
}